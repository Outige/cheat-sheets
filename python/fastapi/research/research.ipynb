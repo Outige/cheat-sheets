{
 "cells": [
  {
   "cell_type": "markdown",
   "metadata": {},
   "source": [
    "This notebook follows the [Tutorial - User Guide](https://fastapi.tiangolo.com/tutorial/ ) from the fastapi documnetation. In attempt to breakdown and better understand how to use fastapi"
   ]
  },
  {
   "cell_type": "markdown",
   "metadata": {},
   "source": [
    "# First Steps\n",
    "The simplest FastAPI file could look like this:"
   ]
  },
  {
   "cell_type": "code",
   "execution_count": 27,
   "metadata": {},
   "outputs": [],
   "source": [
    "from fastapi import FastAPI\n",
    "\n",
    "\"\"\"\n",
    "- Here the app variable will be an \"instance\" of the class FastAPI.\n",
    "- This will be the main point of interaction to create all your API.\n",
    "- This app is the same one referred by uvicorn in the command:\n",
    "\"\"\"\n",
    "app = FastAPI()\n",
    "\n",
    "\"\"\"\n",
    "- @app is the decorator (probably need to do more research)\n",
    "    - In our case, this decorator tells FastAPI that the\n",
    "    function below corresponds to the path / with an operation get\n",
    "- .get() implies that this function will be called as an\n",
    "http get request\n",
    "- (\"/\") is the route \n",
    "\"\"\"\n",
    "@app.get(\"/\")\n",
    "async def root():\n",
    "    return {\"message\": \"Hello World\"}"
   ]
  },
  {
   "cell_type": "markdown",
   "metadata": {},
   "source": [
    "If you put that into a file called `main.py` you would be able to run it with `uvicorn main:app --reload`"
   ]
  },
  {
   "cell_type": "code",
   "execution_count": null,
   "metadata": {},
   "outputs": [],
   "source": []
  }
 ],
 "metadata": {
  "kernelspec": {
   "display_name": "Python 3",
   "language": "python",
   "name": "python3"
  },
  "language_info": {
   "codemirror_mode": {
    "name": "ipython",
    "version": 3
   },
   "file_extension": ".py",
   "mimetype": "text/x-python",
   "name": "python",
   "nbconvert_exporter": "python",
   "pygments_lexer": "ipython3",
   "version": "3.8.5"
  }
 },
 "nbformat": 4,
 "nbformat_minor": 2
}
